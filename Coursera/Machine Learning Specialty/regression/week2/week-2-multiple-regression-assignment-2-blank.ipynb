{
 "cells": [
  {
   "cell_type": "markdown",
   "metadata": {},
   "source": [
    "# Regression Week 2: Multiple Regression (gradient descent)"
   ]
  },
  {
   "cell_type": "markdown",
   "metadata": {},
   "source": [
    "In the first notebook we explored multiple regression using graphlab create. Now we will use graphlab along with numpy to solve for the regression weights with gradient descent.\n",
    "\n",
    "In this notebook we will cover estimating multiple regression weights via gradient descent. You will:\n",
    "* Add a constant column of 1's to a graphlab SFrame to account for the intercept\n",
    "* Convert an SFrame into a Numpy array\n",
    "* Write a predict_output() function using Numpy\n",
    "* Write a numpy function to compute the derivative of the regression weights with respect to a single feature\n",
    "* Write gradient descent function to compute the regression weights given an initial weight vector, step size and tolerance.\n",
    "* Use the gradient descent function to estimate regression weights for multiple features"
   ]
  },
  {
   "cell_type": "markdown",
   "metadata": {},
   "source": [
    "# Fire up graphlab create"
   ]
  },
  {
   "cell_type": "markdown",
   "metadata": {},
   "source": [
    "Make sure you have the latest version of graphlab (>= 1.7)"
   ]
  },
  {
   "cell_type": "code",
   "execution_count": 54,
   "metadata": {
    "collapsed": false
   },
   "outputs": [],
   "source": [
    "import graphlab"
   ]
  },
  {
   "cell_type": "markdown",
   "metadata": {},
   "source": [
    "# Load in house sales data\n",
    "\n",
    "Dataset is from house sales in King County, the region where the city of Seattle, WA is located."
   ]
  },
  {
   "cell_type": "code",
   "execution_count": 55,
   "metadata": {
    "collapsed": false
   },
   "outputs": [],
   "source": [
    "sales = graphlab.SFrame('kc_house_data.gl/')"
   ]
  },
  {
   "cell_type": "markdown",
   "metadata": {},
   "source": [
    "If we want to do any \"feature engineering\" like creating new features or adjusting existing ones we should do this directly using the SFrames as seen in the other Week 2 notebook. For this notebook, however, we will work with the existing features."
   ]
  },
  {
   "cell_type": "markdown",
   "metadata": {},
   "source": [
    "# Convert to Numpy Array"
   ]
  },
  {
   "cell_type": "markdown",
   "metadata": {},
   "source": [
    "Although SFrames offer a number of benefits to users (especially when using Big Data and built-in graphlab functions) in order to understand the details of the implementation of algorithms it's important to work with a library that allows for direct (and optimized) matrix operations. Numpy is a Python solution to work with matrices (or any multi-dimensional \"array\").\n",
    "\n",
    "Recall that the predicted value given the weights and the features is just the dot product between the feature and weight vector. Similarly, if we put all of the features row-by-row in a matrix then the predicted value for *all* the observations can be computed by right multiplying the \"feature matrix\" by the \"weight vector\". \n",
    "\n",
    "First we need to take the SFrame of our data and convert it into a 2D numpy array (also called a matrix). To do this we use graphlab's built in .to_dataframe() which converts the SFrame into a Pandas (another python library) dataframe. We can then use Panda's .as_matrix() to convert the dataframe into a numpy matrix."
   ]
  },
  {
   "cell_type": "code",
   "execution_count": 56,
   "metadata": {
    "collapsed": true
   },
   "outputs": [],
   "source": [
    "import numpy as np # note this allows us to refer to numpy as np instead "
   ]
  },
  {
   "cell_type": "markdown",
   "metadata": {},
   "source": [
    "Now we will write a function that will accept an SFrame, a list of feature names (e.g. ['sqft_living', 'bedrooms']) and an target feature e.g. ('price') and will return two things:\n",
    "* A numpy matrix whose columns are the desired features plus a constant column (this is how we create an 'intercept')\n",
    "* A numpy array containing the values of the output\n",
    "\n",
    "With this in mind, complete the following function (where there's an empty line you should write a line of code that does what the comment above indicates)\n",
    "\n",
    "**Please note you will need GraphLab Create version at least 1.7.1 in order for .to_numpy() to work!**"
   ]
  },
  {
   "cell_type": "code",
   "execution_count": 57,
   "metadata": {
    "collapsed": false
   },
   "outputs": [],
   "source": [
    "def get_numpy_data(data_sframe, features, output):\n",
    "    data_sframe['constant'] = 1 # this is how you add a constant column to an SFrame\n",
    "    data_sframe.print_rows(2)\n",
    "    # add the column 'constant' to the front of the features list so that we can extract it along with the others:\n",
    "    features = ['constant'] + features # this is how you combine two lists\n",
    "    print features\n",
    "    \n",
    "    # select the columns of data_SFrame given by the features list into the SFrame features_sframe (now including constant):\n",
    "    features_sframe = data_sframe.select_columns(features)\n",
    "    # the following line will convert the features_SFrame into a numpy matrix:\n",
    "    feature_matrix = features_sframe.to_numpy()\n",
    "    # assign the column of data_sframe associated with the output to the SArray output_sarray\n",
    "    output_sarray = data_sframe[output]\n",
    "    # the following will convert the SArray into a numpy array by first converting it to a list\n",
    "    output_array = output_sarray.to_numpy()\n",
    "    return(feature_matrix, output_array)"
   ]
  },
  {
   "cell_type": "markdown",
   "metadata": {},
   "source": [
    "For testing let's use the 'sqft_living' feature and a constant as our features and price as our output:"
   ]
  },
  {
   "cell_type": "code",
   "execution_count": 58,
   "metadata": {
    "collapsed": false
   },
   "outputs": [
    {
     "name": "stdout",
     "output_type": "stream",
     "text": [
      "+------------+---------------------------+----------+----------+-----------+\n",
      "|     id     |            date           |  price   | bedrooms | bathrooms |\n",
      "+------------+---------------------------+----------+----------+-----------+\n",
      "| 7129300520 | 2014-10-13 00:00:00+00:00 | 221900.0 |   3.0    |    1.0    |\n",
      "| 6414100192 | 2014-12-09 00:00:00+00:00 | 538000.0 |   3.0    |    2.25   |\n",
      "+------------+---------------------------+----------+----------+-----------+\n",
      "+-------------+----------+--------+------------+------+-----------+-------+------------+\n",
      "| sqft_living | sqft_lot | floors | waterfront | view | condition | grade | sqft_above |\n",
      "+-------------+----------+--------+------------+------+-----------+-------+------------+\n",
      "|    1180.0   |   5650   |   1    |     0      |  0   |     3     |   7   |    1180    |\n",
      "|    2570.0   |   7242   |   2    |     0      |  0   |     3     |   7   |    2170    |\n",
      "+-------------+----------+--------+------------+------+-----------+-------+------------+\n",
      "+---------------+----------+--------------+---------+-------------+\n",
      "| sqft_basement | yr_built | yr_renovated | zipcode |     lat     |\n",
      "+---------------+----------+--------------+---------+-------------+\n",
      "|       0       |   1955   |      0       |  98178  | 47.51123398 |\n",
      "|      400      |   1951   |     1991     |  98125  | 47.72102274 |\n",
      "+---------------+----------+--------------+---------+-------------+\n",
      "+---------------+---------------+------------+----------+\n",
      "|      long     | sqft_living15 | sqft_lot15 | constant |\n",
      "+---------------+---------------+------------+----------+\n",
      "| -122.25677536 |     1340.0    |   5650.0   |    1     |\n",
      "|  -122.3188624 |     1690.0    |   7639.0   |    1     |\n",
      "+---------------+---------------+------------+----------+\n",
      "[21613 rows x 22 columns]\n",
      "\n",
      "['constant', 'sqft_living']\n",
      "[  1.00000000e+00   1.18000000e+03]\n",
      "221900.0\n"
     ]
    }
   ],
   "source": [
    "(example_features, example_output) = get_numpy_data(sales, ['sqft_living'], 'price') # the [] around 'sqft_living' makes it a list\n",
    "print example_features[0,:] # this accesses the first row of the data the ':' indicates 'all columns'\n",
    "print example_output[0] # and the corresponding output"
   ]
  },
  {
   "cell_type": "markdown",
   "metadata": {},
   "source": [
    "# Predicting output given regression weights"
   ]
  },
  {
   "cell_type": "markdown",
   "metadata": {},
   "source": [
    "Suppose we had the weights [1.0, 1.0] and the features [1.0, 1180.0] and we wanted to compute the predicted output 1.0\\*1.0 + 1.0\\*1180.0 = 1181.0 this is the dot product between these two arrays. If they're numpy arrayws we can use np.dot() to compute this:"
   ]
  },
  {
   "cell_type": "code",
   "execution_count": 59,
   "metadata": {
    "collapsed": false
   },
   "outputs": [
    {
     "name": "stdout",
     "output_type": "stream",
     "text": [
      "1181.0\n"
     ]
    }
   ],
   "source": [
    "my_weights = np.array([1., 1.]) # the example weights\n",
    "my_features = example_features[0,] # we'll use the first data point\n",
    "predicted_value = np.dot(my_features, my_weights)\n",
    "print predicted_value"
   ]
  },
  {
   "cell_type": "markdown",
   "metadata": {},
   "source": [
    "np.dot() also works when dealing with a matrix and a vector. Recall that the predictions from all the observations is just the RIGHT (as in weights on the right) dot product between the features *matrix* and the weights *vector*. With this in mind finish the following predict_output function to compute the predictions for an entire matrix of features given the matrix and the weights:"
   ]
  },
  {
   "cell_type": "code",
   "execution_count": 60,
   "metadata": {
    "collapsed": true
   },
   "outputs": [],
   "source": [
    "def predict_output(feature_matrix, weights):\n",
    "    # assume feature_matrix is a numpy matrix containing the features as columns and weights is a corresponding numpy array\n",
    "    # create the predictions vector by using np.dot()\n",
    "    predictions = np.dot(feature_matrix, weights)\n",
    "\n",
    "    return(predictions)"
   ]
  },
  {
   "cell_type": "markdown",
   "metadata": {},
   "source": [
    "If you want to test your code run the following cell:"
   ]
  },
  {
   "cell_type": "code",
   "execution_count": 61,
   "metadata": {
    "collapsed": false
   },
   "outputs": [
    {
     "name": "stdout",
     "output_type": "stream",
     "text": [
      "1181.0\n",
      "2571.0\n"
     ]
    }
   ],
   "source": [
    "test_predictions = predict_output(example_features, my_weights)\n",
    "print test_predictions[0] # should be 1181.0\n",
    "print test_predictions[1] # should be 2571.0"
   ]
  },
  {
   "cell_type": "markdown",
   "metadata": {},
   "source": [
    "# Computing the Derivative"
   ]
  },
  {
   "cell_type": "markdown",
   "metadata": {},
   "source": [
    "We are now going to move to computing the derivative of the regression cost function. Recall that the cost function is the sum over the data points of the squared difference between an observed output and a predicted output.\n",
    "\n",
    "Since the derivative of a sum is the sum of the derivatives we can compute the derivative for a single data point and then sum over data points. We can write the squared difference between the observed output and predicted output for a single point as follows:\n",
    "\n",
    "(w[0]\\*[CONSTANT] + w[1]\\*[feature_1] + ... + w[i] \\*[feature_i] + ... +  w[k]\\*[feature_k] - output)^2\n",
    "\n",
    "Where we have k features and a constant. So the derivative with respect to weight w[i] by the chain rule is:\n",
    "\n",
    "2\\*(w[0]\\*[CONSTANT] + w[1]\\*[feature_1] + ... + w[i] \\*[feature_i] + ... +  w[k]\\*[feature_k] - output)\\* [feature_i]\n",
    "\n",
    "The term inside the paranethesis is just the error (difference between prediction and output). So we can re-write this as:\n",
    "\n",
    "2\\*error\\*[feature_i]\n",
    "\n",
    "That is, the derivative for the weight for feature i is the sum (over data points) of 2 times the product of the error and the feature itself. In the case of the constant then this is just twice the sum of the errors!\n",
    "\n",
    "Recall that twice the sum of the product of two vectors is just twice the dot product of the two vectors. Therefore the derivative for the weight for feature_i is just two times the dot product between the values of feature_i and the current errors. \n",
    "\n",
    "With this in mind complete the following derivative function which computes the derivative of the weight given the value of the feature (over all data points) and the errors (over all data points)."
   ]
  },
  {
   "cell_type": "code",
   "execution_count": 64,
   "metadata": {
    "collapsed": true
   },
   "outputs": [],
   "source": [
    "def feature_derivative(errors, feature):\n",
    "    # Assume that errors and feature are both numpy arrays of the same length (number of data points)\n",
    "    # compute twice the dot product of these vectors as 'derivative' and return the value\n",
    "    derivative = 2*(np.dot(errors, feature))\n",
    "    \n",
    "\n",
    "    return(derivative)"
   ]
  },
  {
   "cell_type": "markdown",
   "metadata": {},
   "source": [
    "To test your feature derivartive run the following:"
   ]
  },
  {
   "cell_type": "code",
   "execution_count": 65,
   "metadata": {
    "collapsed": false
   },
   "outputs": [
    {
     "name": "stdout",
     "output_type": "stream",
     "text": [
      "+------------+---------------------------+----------+----------+-----------+\n",
      "|     id     |            date           |  price   | bedrooms | bathrooms |\n",
      "+------------+---------------------------+----------+----------+-----------+\n",
      "| 7129300520 | 2014-10-13 00:00:00+00:00 | 221900.0 |   3.0    |    1.0    |\n",
      "| 6414100192 | 2014-12-09 00:00:00+00:00 | 538000.0 |   3.0    |    2.25   |\n",
      "+------------+---------------------------+----------+----------+-----------+\n",
      "+-------------+----------+--------+------------+------+-----------+-------+------------+\n",
      "| sqft_living | sqft_lot | floors | waterfront | view | condition | grade | sqft_above |\n",
      "+-------------+----------+--------+------------+------+-----------+-------+------------+\n",
      "|    1180.0   |   5650   |   1    |     0      |  0   |     3     |   7   |    1180    |\n",
      "|    2570.0   |   7242   |   2    |     0      |  0   |     3     |   7   |    2170    |\n",
      "+-------------+----------+--------+------------+------+-----------+-------+------------+\n",
      "+---------------+----------+--------------+---------+-------------+\n",
      "| sqft_basement | yr_built | yr_renovated | zipcode |     lat     |\n",
      "+---------------+----------+--------------+---------+-------------+\n",
      "|       0       |   1955   |      0       |  98178  | 47.51123398 |\n",
      "|      400      |   1951   |     1991     |  98125  | 47.72102274 |\n",
      "+---------------+----------+--------------+---------+-------------+\n",
      "+---------------+---------------+------------+----------+\n",
      "|      long     | sqft_living15 | sqft_lot15 | constant |\n",
      "+---------------+---------------+------------+----------+\n",
      "| -122.25677536 |     1340.0    |   5650.0   |    1     |\n",
      "|  -122.3188624 |     1690.0    |   7639.0   |    1     |\n",
      "+---------------+---------------+------------+----------+\n",
      "[21613 rows x 22 columns]\n",
      "\n",
      "['constant', 'sqft_living']\n",
      "-23345850022.0\n",
      "-23345850022.0\n"
     ]
    }
   ],
   "source": [
    "(example_features, example_output) = get_numpy_data(sales, ['sqft_living'], 'price') \n",
    "my_weights = np.array([0., 0.]) # this makes all the predictions 0\n",
    "test_predictions = predict_output(example_features, my_weights) \n",
    "# just like SFrames 2 numpy arrays can be elementwise subtracted with '-': \n",
    "errors = test_predictions - example_output # prediction errors in this case is just the -example_output\n",
    "feature = example_features[:,0] # let's compute the derivative with respect to 'constant', the \":\" indicates \"all rows\"\n",
    "derivative = feature_derivative(errors, feature)\n",
    "print derivative\n",
    "print -np.sum(example_output)*2 # should be the same as derivative"
   ]
  },
  {
   "cell_type": "markdown",
   "metadata": {},
   "source": [
    "# Gradient Descent"
   ]
  },
  {
   "cell_type": "markdown",
   "metadata": {},
   "source": [
    "Now we will write a function that performs a gradient descent. The basic premise is simple. Given a starting point we update the current weights by moving in the negative gradient direction. Recall that the gradient is the direction of *increase* and therefore the negative gradient is the direction of *decrease* and we're trying to *minimize* a cost function. \n",
    "\n",
    "The amount by which we move in the negative gradient *direction*  is called the 'step size'. We stop when we are 'sufficiently close' to the optimum. We define this by requiring that the magnitude (length) of the gradient vector to be smaller than a fixed 'tolerance'.\n",
    "\n",
    "With this in mind, complete the following gradient descent function below using your derivative function above. For each step in the gradient descent we update the weight for each feature befofe computing our stopping criteria"
   ]
  },
  {
   "cell_type": "code",
   "execution_count": 66,
   "metadata": {
    "collapsed": true
   },
   "outputs": [],
   "source": [
    "from math import sqrt # recall that the magnitude/length of a vector [g[0], g[1], g[2]] is sqrt(g[0]^2 + g[1]^2 + g[2]^2)"
   ]
  },
  {
   "cell_type": "code",
   "execution_count": 119,
   "metadata": {
    "collapsed": false
   },
   "outputs": [],
   "source": [
    "def regression_gradient_descent(feature_matrix, output, initial_weights, step_size, tolerance):\n",
    "    converged = False \n",
    "    weights = np.array(initial_weights) # make sure it's a numpy array\n",
    "    while not converged:\n",
    "        # compute the predictions based on feature_matrix and weights using your predict_output() function\n",
    "        predicted_output = predict_output(feature_matrix, weights)\n",
    "\n",
    "        # compute the errors as predictions - output\n",
    "        errors = predicted_output-output\n",
    "\n",
    "        gradient_sum_squares = 0 # initialize the gradient sum of squares\n",
    "        # while we haven't reached the tolerance yet, update each feature's weight\n",
    "        for i in range(len(weights)): # loop over each weight\n",
    "            # Recall that feature_matrix[:, i] is the feature column associated with weights[i]\n",
    "            # compute the derivative for weight[i]:\n",
    "            feature = feature_matrix[:,i]\n",
    "            derivative = feature_derivative(errors, feature)\n",
    "            # print \"derivative: \", derivative\n",
    "\n",
    "            # add the squared value of the derivative to the gradient sum of squares (for assessing convergence)\n",
    "            gradient_sum_squares = gradient_sum_squares + (derivative*derivative).sum()\n",
    "            # print \"gradient: \", gradient_sum_squares\n",
    "\n",
    "            # subtract the step size times the derivative from the current weight\n",
    "            # print \"weights: \", weights[i]\n",
    "            #weight_adjustment = (derivative*step_size)\n",
    "            # print \"weight_adjustment: \", weight_adjustment\n",
    "            \n",
    "            #print \"weights: \", weights\n",
    "            weights[i] = weights[i]-(derivative*step_size)\n",
    "            \n",
    "        # compute the square-root of the gradient sum of squares to get the gradient magnitude:\n",
    "        \n",
    "        gradient_magnitude = sqrt(gradient_sum_squares)\n",
    "        print \"gradient_magnitude: \", gradient_magnitude, \"gradient_sum_squares: \", sqrt(gradient_sum_squares)\n",
    "        if gradient_magnitude < tolerance:\n",
    "            converged = True\n",
    "    return(weights)"
   ]
  },
  {
   "cell_type": "markdown",
   "metadata": {},
   "source": [
    "A few things to note before we run the gradient descent. Since the gradient is a sum over all the data points and involves a product of an error and a feature the gradient itself will be very large since the features are large (squarefeet) and the output is large (prices). So while you might expect \"tolerance\" to be small, small is only relative to the size of the features. \n",
    "\n",
    "For similar reasons the step size will be much smaller than you might expect but this is because the gradient has such large values."
   ]
  },
  {
   "cell_type": "markdown",
   "metadata": {},
   "source": [
    "# Running the Gradient Descent as Simple Regression"
   ]
  },
  {
   "cell_type": "markdown",
   "metadata": {},
   "source": [
    "First let's split the data into training and test data."
   ]
  },
  {
   "cell_type": "code",
   "execution_count": 120,
   "metadata": {
    "collapsed": true
   },
   "outputs": [],
   "source": [
    "train_data,test_data = sales.random_split(.8,seed=0)"
   ]
  },
  {
   "cell_type": "markdown",
   "metadata": {},
   "source": [
    "Although the gradient descent is designed for multiple regression since the constant is now a feature we can use the gradient descent function to estimat the parameters in the simple regression on squarefeet. The folowing cell sets up the feature_matrix, output, initial weights and step size for the first model:"
   ]
  },
  {
   "cell_type": "code",
   "execution_count": 121,
   "metadata": {
    "collapsed": false
   },
   "outputs": [
    {
     "name": "stdout",
     "output_type": "stream",
     "text": [
      "+------------+---------------------------+----------+----------+-----------+\n",
      "|     id     |            date           |  price   | bedrooms | bathrooms |\n",
      "+------------+---------------------------+----------+----------+-----------+\n",
      "| 7129300520 | 2014-10-13 00:00:00+00:00 | 221900.0 |   3.0    |    1.0    |\n",
      "| 6414100192 | 2014-12-09 00:00:00+00:00 | 538000.0 |   3.0    |    2.25   |\n",
      "+------------+---------------------------+----------+----------+-----------+\n",
      "+-------------+----------+--------+------------+------+-----------+-------+------------+\n",
      "| sqft_living | sqft_lot | floors | waterfront | view | condition | grade | sqft_above |\n",
      "+-------------+----------+--------+------------+------+-----------+-------+------------+\n",
      "|    1180.0   |   5650   |   1    |     0      |  0   |     3     |   7   |    1180    |\n",
      "|    2570.0   |   7242   |   2    |     0      |  0   |     3     |   7   |    2170    |\n",
      "+-------------+----------+--------+------------+------+-----------+-------+------------+\n",
      "+---------------+----------+--------------+---------+-------------+\n",
      "| sqft_basement | yr_built | yr_renovated | zipcode |     lat     |\n",
      "+---------------+----------+--------------+---------+-------------+\n",
      "|       0       |   1955   |      0       |  98178  | 47.51123398 |\n",
      "|      400      |   1951   |     1991     |  98125  | 47.72102274 |\n",
      "+---------------+----------+--------------+---------+-------------+\n",
      "+---------------+---------------+------------+----------+\n",
      "|      long     | sqft_living15 | sqft_lot15 | constant |\n",
      "+---------------+---------------+------------+----------+\n",
      "| -122.25677536 |     1340.0    |   5650.0   |    1     |\n",
      "|  -122.3188624 |     1690.0    |   7639.0   |    1     |\n",
      "+---------------+---------------+------------+----------+\n",
      "[17384 rows x 22 columns]\n",
      "\n",
      "['constant', 'sqft_living']\n"
     ]
    }
   ],
   "source": [
    "# let's test out the gradient descent\n",
    "simple_features = ['sqft_living']\n",
    "my_output = 'price'\n",
    "(simple_feature_matrix, output) = get_numpy_data(train_data, simple_features, my_output)\n",
    "initial_weights = np.array([-47000., 1.])\n",
    "step_size = 7e-12\n",
    "tolerance = 2.5e7"
   ]
  },
  {
   "cell_type": "markdown",
   "metadata": {},
   "source": [
    "Next run your gradient descent with the above parameters."
   ]
  },
  {
   "cell_type": "code",
   "execution_count": 126,
   "metadata": {
    "collapsed": false
   },
   "outputs": [
    {
     "name": "stdout",
     "output_type": "stream",
     "text": [
      "gradient_magnitude:  5.05515307744e+13 gradient_sum_squares:  5.05515307744e+13\n",
      "gradient_magnitude:  1.31274510235e+13 gradient_sum_squares:  1.31274510235e+13\n",
      "gradient_magnitude:  3.40899608253e+12 gradient_sum_squares:  3.40899608253e+12\n",
      "gradient_magnitude:  8.852635801e+11 gradient_sum_squares:  8.852635801e+11\n",
      "gradient_magnitude:  2.2988926572e+11 gradient_sum_squares:  2.2988926572e+11\n",
      "gradient_magnitude:  59698688259.7 gradient_sum_squares:  59698688259.7\n",
      "gradient_magnitude:  15502826422.1 gradient_sum_squares:  15502826422.1\n",
      "gradient_magnitude:  4025844401.5 gradient_sum_squares:  4025844401.5\n",
      "gradient_magnitude:  1045449748.16 gradient_sum_squares:  1045449748.16\n",
      "gradient_magnitude:  271487891.86 gradient_sum_squares:  271487891.86\n",
      "gradient_magnitude:  70504114.6977 gradient_sum_squares:  70504114.6977\n",
      "gradient_magnitude:  18320016.751 gradient_sum_squares:  18320016.751\n",
      "sqft_living:  281.912119116\n"
     ]
    }
   ],
   "source": [
    "simple_weights = regression_gradient_descent(simple_feature_matrix, output, initial_weights, step_size, tolerance)\n",
    "print \"sqft_living: \", weights[1]\n",
    "\n"
   ]
  },
  {
   "cell_type": "markdown",
   "metadata": {},
   "source": [
    "How do your weights compare to those achieved in week 1 (don't expect them to be exactly the same)? \n",
    "\n",
    "**Quiz Question: What is the value of the weight for sqft_living -- the second element of ‘simple_weights’ (rounded to 1 decimal place)?**"
   ]
  },
  {
   "cell_type": "markdown",
   "metadata": {},
   "source": [
    "Use your newly estimated weights and your predict_output() function to compute the predictions on all the TEST data (you will need to create a numpy array of the test feature_matrix and test output first:"
   ]
  },
  {
   "cell_type": "code",
   "execution_count": 127,
   "metadata": {
    "collapsed": false
   },
   "outputs": [
    {
     "name": "stdout",
     "output_type": "stream",
     "text": [
      "+------------+---------------------------+----------+----------+-----------+\n",
      "|     id     |            date           |  price   | bedrooms | bathrooms |\n",
      "+------------+---------------------------+----------+----------+-----------+\n",
      "| 0114101516 | 2014-05-28 00:00:00+00:00 | 310000.0 |   3.0    |    1.0    |\n",
      "| 9297300055 | 2015-01-24 00:00:00+00:00 | 650000.0 |   4.0    |    3.0    |\n",
      "+------------+---------------------------+----------+----------+-----------+\n",
      "+-------------+----------+--------+------------+------+-----------+-------+------------+\n",
      "| sqft_living | sqft_lot | floors | waterfront | view | condition | grade | sqft_above |\n",
      "+-------------+----------+--------+------------+------+-----------+-------+------------+\n",
      "|    1430.0   |  19901   |  1.5   |     0      |  0   |     4     |   7   |    1430    |\n",
      "|    2950.0   |   5000   |   2    |     0      |  3   |     3     |   9   |    1980    |\n",
      "+-------------+----------+--------+------------+------+-----------+-------+------------+\n",
      "+---------------+----------+--------------+---------+-------------+\n",
      "| sqft_basement | yr_built | yr_renovated | zipcode |     lat     |\n",
      "+---------------+----------+--------------+---------+-------------+\n",
      "|       0       |   1927   |      0       |  98028  | 47.75584254 |\n",
      "|      970      |   1979   |      0       |  98126  | 47.57136955 |\n",
      "+---------------+----------+--------------+---------+-------------+\n",
      "+---------------+---------------+------------+----------+\n",
      "|      long     | sqft_living15 | sqft_lot15 | constant |\n",
      "+---------------+---------------+------------+----------+\n",
      "| -122.22874498 |     1780.0    |  12697.0   |    1     |\n",
      "| -122.37541218 |     2140.0    |   4000.0   |    1     |\n",
      "+---------------+---------------+------------+----------+\n",
      "[4229 rows x 22 columns]\n",
      "\n",
      "['constant', 'sqft_living']\n",
      "[ 356134.44317093  784640.86422788  435069.83652353 ...,  663418.65300782\n",
      "  604217.10799338  240550.4743332 ]\n"
     ]
    }
   ],
   "source": [
    "(test_simple_feature_matrix, test_output) = get_numpy_data(test_data, simple_features, my_output)\n",
    "\n",
    "test_predictions = predict_output (test_simple_feature_matrix, simple_weights)\n",
    "\n",
    "print test_predictions\n",
    "\n"
   ]
  },
  {
   "cell_type": "markdown",
   "metadata": {},
   "source": [
    "Now compute your predictions using test_simple_feature_matrix and your weights from above."
   ]
  },
  {
   "cell_type": "code",
   "execution_count": 128,
   "metadata": {
    "collapsed": false
   },
   "outputs": [
    {
     "data": {
      "text/plain": [
       "356134.44317092974"
      ]
     },
     "execution_count": 128,
     "metadata": {},
     "output_type": "execute_result"
    }
   ],
   "source": [
    "test_predictions[0]"
   ]
  },
  {
   "cell_type": "markdown",
   "metadata": {},
   "source": [
    "**Quiz Question: What is the predicted price for the 1st house in the TEST data set for model 1 (round to nearest dollar)?**"
   ]
  },
  {
   "cell_type": "code",
   "execution_count": 129,
   "metadata": {
    "collapsed": false
   },
   "outputs": [
    {
     "name": "stdout",
     "output_type": "stream",
     "text": [
      "test prediction first house  356134.443171\n"
     ]
    }
   ],
   "source": [
    "print \"test prediction first house \", test_predictions[0]"
   ]
  },
  {
   "cell_type": "markdown",
   "metadata": {},
   "source": [
    "Now that you have the predictions on test data, compute the RSS on the test data set. Save this value for comparison later. Recall that RSS is the sum of the squared errors (difference between prediction and output)."
   ]
  },
  {
   "cell_type": "code",
   "execution_count": 143,
   "metadata": {
    "collapsed": false
   },
   "outputs": [
    {
     "name": "stdout",
     "output_type": "stream",
     "text": [
      "rss_test:  2.75400047593e+14\n"
     ]
    }
   ],
   "source": [
    "rss_test = np.square(test_predictions - test_output).sum()\n",
    "print \"rss_test: \", rss_test"
   ]
  },
  {
   "cell_type": "markdown",
   "metadata": {},
   "source": [
    "# Running a multiple regression"
   ]
  },
  {
   "cell_type": "markdown",
   "metadata": {},
   "source": [
    "Now we will use more than one actual feature. Use the following code to produce the weights for a second model with the following parameters:"
   ]
  },
  {
   "cell_type": "code",
   "execution_count": 134,
   "metadata": {
    "collapsed": false
   },
   "outputs": [
    {
     "name": "stdout",
     "output_type": "stream",
     "text": [
      "+------------+---------------------------+----------+----------+-----------+\n",
      "|     id     |            date           |  price   | bedrooms | bathrooms |\n",
      "+------------+---------------------------+----------+----------+-----------+\n",
      "| 7129300520 | 2014-10-13 00:00:00+00:00 | 221900.0 |   3.0    |    1.0    |\n",
      "| 6414100192 | 2014-12-09 00:00:00+00:00 | 538000.0 |   3.0    |    2.25   |\n",
      "+------------+---------------------------+----------+----------+-----------+\n",
      "+-------------+----------+--------+------------+------+-----------+-------+------------+\n",
      "| sqft_living | sqft_lot | floors | waterfront | view | condition | grade | sqft_above |\n",
      "+-------------+----------+--------+------------+------+-----------+-------+------------+\n",
      "|    1180.0   |   5650   |   1    |     0      |  0   |     3     |   7   |    1180    |\n",
      "|    2570.0   |   7242   |   2    |     0      |  0   |     3     |   7   |    2170    |\n",
      "+-------------+----------+--------+------------+------+-----------+-------+------------+\n",
      "+---------------+----------+--------------+---------+-------------+\n",
      "| sqft_basement | yr_built | yr_renovated | zipcode |     lat     |\n",
      "+---------------+----------+--------------+---------+-------------+\n",
      "|       0       |   1955   |      0       |  98178  | 47.51123398 |\n",
      "|      400      |   1951   |     1991     |  98125  | 47.72102274 |\n",
      "+---------------+----------+--------------+---------+-------------+\n",
      "+---------------+---------------+------------+----------+\n",
      "|      long     | sqft_living15 | sqft_lot15 | constant |\n",
      "+---------------+---------------+------------+----------+\n",
      "| -122.25677536 |     1340.0    |   5650.0   |    1     |\n",
      "|  -122.3188624 |     1690.0    |   7639.0   |    1     |\n",
      "+---------------+---------------+------------+----------+\n",
      "[17384 rows x 22 columns]\n",
      "\n",
      "['constant', 'sqft_living', 'sqft_living15']\n"
     ]
    }
   ],
   "source": [
    "model_features = ['sqft_living', 'sqft_living15'] # sqft_living15 is the average squarefeet for the nearest 15 neighbors. \n",
    "my_output = 'price'\n",
    "(feature_matrix, output) = get_numpy_data(train_data, model_features, my_output)\n",
    "initial_weights = np.array([-100000., 1., 1.])\n",
    "step_size = 4e-12\n",
    "tolerance = 1e9"
   ]
  },
  {
   "cell_type": "markdown",
   "metadata": {},
   "source": [
    "Use the above parameters to estimate the model weights. Record these values for your quiz."
   ]
  },
  {
   "cell_type": "code",
   "execution_count": 135,
   "metadata": {
    "collapsed": false
   },
   "outputs": [
    {
     "name": "stdout",
     "output_type": "stream",
     "text": [
      "gradient_magnitude:  7.30720205489e+13 gradient_sum_squares:  7.30720205489e+13\n",
      "gradient_magnitude:  2.26732209651e+13 gradient_sum_squares:  2.26732209651e+13\n",
      "gradient_magnitude:  7.0607945821e+12 gradient_sum_squares:  7.0607945821e+12\n",
      "gradient_magnitude:  2.27568239427e+12 gradient_sum_squares:  2.27568239427e+12\n",
      "gradient_magnitude:  9.28984105638e+11 gradient_sum_squares:  9.28984105638e+11\n",
      "gradient_magnitude:  6.56307425178e+11 gradient_sum_squares:  6.56307425178e+11\n",
      "gradient_magnitude:  6.10615351821e+11 gradient_sum_squares:  6.10615351821e+11\n",
      "gradient_magnitude:  5.93078765307e+11 gradient_sum_squares:  5.93078765307e+11\n",
      "gradient_magnitude:  5.78705920128e+11 gradient_sum_squares:  5.78705920128e+11\n",
      "gradient_magnitude:  5.64945676163e+11 gradient_sum_squares:  5.64945676163e+11\n",
      "gradient_magnitude:  5.51538681425e+11 gradient_sum_squares:  5.51538681425e+11\n",
      "gradient_magnitude:  5.38452422879e+11 gradient_sum_squares:  5.38452422879e+11\n",
      "gradient_magnitude:  5.25676912708e+11 gradient_sum_squares:  5.25676912708e+11\n",
      "gradient_magnitude:  5.1320454369e+11 gradient_sum_squares:  5.1320454369e+11\n",
      "gradient_magnitude:  5.01028100319e+11 gradient_sum_squares:  5.01028100319e+11\n",
      "gradient_magnitude:  4.89140559101e+11 gradient_sum_squares:  4.89140559101e+11\n",
      "gradient_magnitude:  4.77535065233e+11 gradient_sum_squares:  4.77535065233e+11\n",
      "gradient_magnitude:  4.66204926754e+11 gradient_sum_squares:  4.66204926754e+11\n",
      "gradient_magnitude:  4.55143610499e+11 gradient_sum_squares:  4.55143610499e+11\n",
      "gradient_magnitude:  4.44344738312e+11 gradient_sum_squares:  4.44344738312e+11\n",
      "gradient_magnitude:  4.33802083366e+11 gradient_sum_squares:  4.33802083366e+11\n",
      "gradient_magnitude:  4.23509566576e+11 gradient_sum_squares:  4.23509566576e+11\n",
      "gradient_magnitude:  4.1346125309e+11 gradient_sum_squares:  4.1346125309e+11\n",
      "gradient_magnitude:  4.03651348867e+11 gradient_sum_squares:  4.03651348867e+11\n",
      "gradient_magnitude:  3.9407419734e+11 gradient_sum_squares:  3.9407419734e+11\n",
      "gradient_magnitude:  3.84724276147e+11 gradient_sum_squares:  3.84724276147e+11\n",
      "gradient_magnitude:  3.75596193956e+11 gradient_sum_squares:  3.75596193956e+11\n",
      "gradient_magnitude:  3.66684687348e+11 gradient_sum_squares:  3.66684687348e+11\n",
      "gradient_magnitude:  3.57984617786e+11 gradient_sum_squares:  3.57984617786e+11\n",
      "gradient_magnitude:  3.49490968654e+11 gradient_sum_squares:  3.49490968654e+11\n",
      "gradient_magnitude:  3.41198842358e+11 gradient_sum_squares:  3.41198842358e+11\n",
      "gradient_magnitude:  3.33103457507e+11 gradient_sum_squares:  3.33103457507e+11\n",
      "gradient_magnitude:  3.25200146157e+11 gradient_sum_squares:  3.25200146157e+11\n",
      "gradient_magnitude:  3.17484351114e+11 gradient_sum_squares:  3.17484351114e+11\n",
      "gradient_magnitude:  3.09951623311e+11 gradient_sum_squares:  3.09951623311e+11\n",
      "gradient_magnitude:  3.02597619241e+11 gradient_sum_squares:  3.02597619241e+11\n",
      "gradient_magnitude:  2.9541809845e+11 gradient_sum_squares:  2.9541809845e+11\n",
      "gradient_magnitude:  2.88408921097e+11 gradient_sum_squares:  2.88408921097e+11\n",
      "gradient_magnitude:  2.81566045563e+11 gradient_sum_squares:  2.81566045563e+11\n",
      "gradient_magnitude:  2.74885526122e+11 gradient_sum_squares:  2.74885526122e+11\n",
      "gradient_magnitude:  2.68363510666e+11 gradient_sum_squares:  2.68363510666e+11\n",
      "gradient_magnitude:  2.6199623848e+11 gradient_sum_squares:  2.6199623848e+11\n",
      "gradient_magnitude:  2.55780038082e+11 gradient_sum_squares:  2.55780038082e+11\n",
      "gradient_magnitude:  2.49711325096e+11 gradient_sum_squares:  2.49711325096e+11\n",
      "gradient_magnitude:  2.43786600194e+11 gradient_sum_squares:  2.43786600194e+11\n",
      "gradient_magnitude:  2.3800244707e+11 gradient_sum_squares:  2.3800244707e+11\n",
      "gradient_magnitude:  2.32355530477e+11 gradient_sum_squares:  2.32355530477e+11\n",
      "gradient_magnitude:  2.26842594301e+11 gradient_sum_squares:  2.26842594301e+11\n",
      "gradient_magnitude:  2.21460459683e+11 gradient_sum_squares:  2.21460459683e+11\n",
      "gradient_magnitude:  2.16206023185e+11 gradient_sum_squares:  2.16206023185e+11\n",
      "gradient_magnitude:  2.11076255005e+11 gradient_sum_squares:  2.11076255005e+11\n",
      "gradient_magnitude:  2.06068197225e+11 gradient_sum_squares:  2.06068197225e+11\n",
      "gradient_magnitude:  2.01178962108e+11 gradient_sum_squares:  2.01178962108e+11\n",
      "gradient_magnitude:  1.96405730433e+11 gradient_sum_squares:  1.96405730433e+11\n",
      "gradient_magnitude:  1.91745749866e+11 gradient_sum_squares:  1.91745749866e+11\n",
      "gradient_magnitude:  1.8719633338e+11 gradient_sum_squares:  1.8719633338e+11\n",
      "gradient_magnitude:  1.82754857697e+11 gradient_sum_squares:  1.82754857697e+11\n",
      "gradient_magnitude:  1.78418761783e+11 gradient_sum_squares:  1.78418761783e+11\n",
      "gradient_magnitude:  1.74185545366e+11 gradient_sum_squares:  1.74185545366e+11\n",
      "gradient_magnitude:  1.70052767496e+11 gradient_sum_squares:  1.70052767496e+11\n",
      "gradient_magnitude:  1.66018045138e+11 gradient_sum_squares:  1.66018045138e+11\n",
      "gradient_magnitude:  1.62079051799e+11 gradient_sum_squares:  1.62079051799e+11\n",
      "gradient_magnitude:  1.58233516183e+11 gradient_sum_squares:  1.58233516183e+11\n",
      "gradient_magnitude:  1.54479220884e+11 gradient_sum_squares:  1.54479220884e+11\n",
      "gradient_magnitude:  1.50814001109e+11 gradient_sum_squares:  1.50814001109e+11\n",
      "gradient_magnitude:  1.47235743424e+11 gradient_sum_squares:  1.47235743424e+11\n",
      "gradient_magnitude:  1.43742384541e+11 gradient_sum_squares:  1.43742384541e+11\n",
      "gradient_magnitude:  1.40331910127e+11 gradient_sum_squares:  1.40331910127e+11\n",
      "gradient_magnitude:  1.37002353639e+11 gradient_sum_squares:  1.37002353639e+11\n",
      "gradient_magnitude:  1.33751795195e+11 gradient_sum_squares:  1.33751795195e+11\n",
      "gradient_magnitude:  1.30578360464e+11 gradient_sum_squares:  1.30578360464e+11\n",
      "gradient_magnitude:  1.27480219586e+11 gradient_sum_squares:  1.27480219586e+11\n",
      "gradient_magnitude:  1.24455586117e+11 gradient_sum_squares:  1.24455586117e+11\n",
      "gradient_magnitude:  1.21502715998e+11 gradient_sum_squares:  1.21502715998e+11\n",
      "gradient_magnitude:  1.1861990655e+11 gradient_sum_squares:  1.1861990655e+11\n",
      "gradient_magnitude:  1.15805495494e+11 gradient_sum_squares:  1.15805495494e+11\n",
      "gradient_magnitude:  1.13057859988e+11 gradient_sum_squares:  1.13057859988e+11\n",
      "gradient_magnitude:  1.10375415697e+11 gradient_sum_squares:  1.10375415697e+11\n",
      "gradient_magnitude:  1.07756615874e+11 gradient_sum_squares:  1.07756615874e+11\n",
      "gradient_magnitude:  1.05199950471e+11 gradient_sum_squares:  1.05199950471e+11\n",
      "gradient_magnitude:  1.0270394527e+11 gradient_sum_squares:  1.0270394527e+11\n",
      "gradient_magnitude:  1.00267161028e+11 gradient_sum_squares:  1.00267161028e+11\n",
      "gradient_magnitude:  97888192650.6 gradient_sum_squares:  97888192650.6\n",
      "gradient_magnitude:  95565668382.2 gradient_sum_squares:  95565668382.2\n",
      "gradient_magnitude:  93298249012.9 gradient_sum_squares:  93298249012.9\n",
      "gradient_magnitude:  91084627107.5 gradient_sum_squares:  91084627107.5\n",
      "gradient_magnitude:  88923526251.5 gradient_sum_squares:  88923526251.5\n",
      "gradient_magnitude:  86813700314.9 gradient_sum_squares:  86813700314.9\n",
      "gradient_magnitude:  84753932733.7 gradient_sum_squares:  84753932733.7\n",
      "gradient_magnitude:  82743035808.5 gradient_sum_squares:  82743035808.5\n",
      "gradient_magnitude:  80779850019.8 gradient_sum_squares:  80779850019.8\n",
      "gradient_magnitude:  78863243358.8 gradient_sum_squares:  78863243358.8\n",
      "gradient_magnitude:  76992110675.6 gradient_sum_squares:  76992110675.6\n",
      "gradient_magnitude:  75165373040.8 gradient_sum_squares:  75165373040.8\n",
      "gradient_magnitude:  73381977124.6 gradient_sum_squares:  73381977124.6\n",
      "gradient_magnitude:  71640894588.5 gradient_sum_squares:  71640894588.5\n",
      "gradient_magnitude:  69941121492.5 gradient_sum_squares:  69941121492.5\n",
      "gradient_magnitude:  68281677716.8 gradient_sum_squares:  68281677716.8\n",
      "gradient_magnitude:  66661606395.9 gradient_sum_squares:  66661606395.9\n",
      "gradient_magnitude:  65079973367.3 gradient_sum_squares:  65079973367.3\n",
      "gradient_magnitude:  63535866632.7 gradient_sum_squares:  63535866632.7\n",
      "gradient_magnitude:  62028395832.0 gradient_sum_squares:  62028395832.0\n",
      "gradient_magnitude:  60556691730.4 gradient_sum_squares:  60556691730.4\n",
      "gradient_magnitude:  59119905716.4 gradient_sum_squares:  59119905716.4\n",
      "gradient_magnitude:  57717209313.2 gradient_sum_squares:  57717209313.2\n",
      "gradient_magnitude:  56347793700.5 gradient_sum_squares:  56347793700.5\n",
      "gradient_magnitude:  55010869248.6 gradient_sum_squares:  55010869248.6\n",
      "gradient_magnitude:  53705665062.4 gradient_sum_squares:  53705665062.4\n",
      "gradient_magnitude:  52431428537.5 gradient_sum_squares:  52431428537.5\n",
      "gradient_magnitude:  51187424926.0 gradient_sum_squares:  51187424926.0\n",
      "gradient_magnitude:  49972936913.0 gradient_sum_squares:  49972936913.0\n",
      "gradient_magnitude:  48787264202.4 gradient_sum_squares:  48787264202.4\n",
      "gradient_magnitude:  47629723114.0 gradient_sum_squares:  47629723114.0\n",
      "gradient_magnitude:  46499646188.5 gradient_sum_squares:  46499646188.5\n",
      "gradient_magnitude:  45396381803.0 gradient_sum_squares:  45396381803.0\n",
      "gradient_magnitude:  44319293795.4 gradient_sum_squares:  44319293795.4\n",
      "gradient_magnitude:  43267761097.0 gradient_sum_squares:  43267761097.0\n",
      "gradient_magnitude:  42241177375.0 gradient_sum_squares:  42241177375.0\n",
      "gradient_magnitude:  41238950682.7 gradient_sum_squares:  41238950682.7\n",
      "gradient_magnitude:  40260503117.9 gradient_sum_squares:  40260503117.9\n",
      "gradient_magnitude:  39305270490.1 gradient_sum_squares:  39305270490.1\n",
      "gradient_magnitude:  38372701994.6 gradient_sum_squares:  38372701994.6\n",
      "gradient_magnitude:  37462259895.7 gradient_sum_squares:  37462259895.7\n",
      "gradient_magnitude:  36573419215.8 gradient_sum_squares:  36573419215.8\n",
      "gradient_magnitude:  35705667433.4 gradient_sum_squares:  35705667433.4\n",
      "gradient_magnitude:  34858504186.9 gradient_sum_squares:  34858504186.9\n",
      "gradient_magnitude:  34031440986.6 gradient_sum_squares:  34031440986.6\n",
      "gradient_magnitude:  33224000933.0 gradient_sum_squares:  33224000933.0\n",
      "gradient_magnitude:  32435718441.4 gradient_sum_squares:  32435718441.4\n",
      "gradient_magnitude:  31666138973.8 gradient_sum_squares:  31666138973.8\n",
      "gradient_magnitude:  30914818776.8 gradient_sum_squares:  30914818776.8\n",
      "gradient_magnitude:  30181324625.4 gradient_sum_squares:  30181324625.4\n",
      "gradient_magnitude:  29465233573.7 gradient_sum_squares:  29465233573.7\n",
      "gradient_magnitude:  28766132710.5 gradient_sum_squares:  28766132710.5\n",
      "gradient_magnitude:  28083618921.5 gradient_sum_squares:  28083618921.5\n",
      "gradient_magnitude:  27417298657.0 gradient_sum_squares:  27417298657.0\n",
      "gradient_magnitude:  26766787704.6 gradient_sum_squares:  26766787704.6\n",
      "gradient_magnitude:  26131710967.9 gradient_sum_squares:  26131710967.9\n",
      "gradient_magnitude:  25511702250.0 gradient_sum_squares:  25511702250.0\n",
      "gradient_magnitude:  24906404042.8 gradient_sum_squares:  24906404042.8\n",
      "gradient_magnitude:  24315467320.2 gradient_sum_squares:  24315467320.2\n",
      "gradient_magnitude:  23738551337.5 gradient_sum_squares:  23738551337.5\n",
      "gradient_magnitude:  23175323434.3 gradient_sum_squares:  23175323434.3\n",
      "gradient_magnitude:  22625458843.3 gradient_sum_squares:  22625458843.3\n",
      "gradient_magnitude:  22088640502.6 gradient_sum_squares:  22088640502.6\n",
      "gradient_magnitude:  21564558873.0 gradient_sum_squares:  21564558873.0\n",
      "gradient_magnitude:  21052911759.4 gradient_sum_squares:  21052911759.4\n",
      "gradient_magnitude:  20553404136.9 gradient_sum_squares:  20553404136.9\n",
      "gradient_magnitude:  20065747980.3 gradient_sum_squares:  20065747980.3\n",
      "gradient_magnitude:  19589662098.2 gradient_sum_squares:  19589662098.2\n",
      "gradient_magnitude:  19124871970.9 gradient_sum_squares:  19124871970.9\n",
      "gradient_magnitude:  18671109592.0 gradient_sum_squares:  18671109592.0\n",
      "gradient_magnitude:  18228113313.7 gradient_sum_squares:  18228113313.7\n",
      "gradient_magnitude:  17795627696.4 gradient_sum_squares:  17795627696.4\n",
      "gradient_magnitude:  17373403361.1 gradient_sum_squares:  17373403361.1\n",
      "gradient_magnitude:  16961196845.6 gradient_sum_squares:  16961196845.6\n",
      "gradient_magnitude:  16558770464.0 gradient_sum_squares:  16558770464.0\n",
      "gradient_magnitude:  16165892170.0 gradient_sum_squares:  16165892170.0\n",
      "gradient_magnitude:  15782335422.9 gradient_sum_squares:  15782335422.9\n",
      "gradient_magnitude:  15407879056.9 gradient_sum_squares:  15407879056.9\n",
      "gradient_magnitude:  15042307153.7 gradient_sum_squares:  15042307153.7\n",
      "gradient_magnitude:  14685408917.8 gradient_sum_squares:  14685408917.8\n",
      "gradient_magnitude:  14336978555.2 gradient_sum_squares:  14336978555.2\n",
      "gradient_magnitude:  13996815154.7 gradient_sum_squares:  13996815154.7\n",
      "gradient_magnitude:  13664722572.0 gradient_sum_squares:  13664722572.0\n",
      "gradient_magnitude:  13340509316.2 gradient_sum_squares:  13340509316.2\n",
      "gradient_magnitude:  13023988440.4 gradient_sum_squares:  13023988440.4\n",
      "gradient_magnitude:  12714977432.6 gradient_sum_squares:  12714977432.6\n",
      "gradient_magnitude:  12413298111.7 gradient_sum_squares:  12413298111.7\n",
      "gradient_magnitude:  12118776523.7 gradient_sum_squares:  12118776523.7\n",
      "gradient_magnitude:  11831242842.3 gradient_sum_squares:  11831242842.3\n",
      "gradient_magnitude:  11550531270.3 gradient_sum_squares:  11550531270.3\n",
      "gradient_magnitude:  11276479944.3 gradient_sum_squares:  11276479944.3\n",
      "gradient_magnitude:  11008930841.3 gradient_sum_squares:  11008930841.3\n",
      "gradient_magnitude:  10747729687.6 gradient_sum_squares:  10747729687.6\n",
      "gradient_magnitude:  10492725870.0 gradient_sum_squares:  10492725870.0\n",
      "gradient_magnitude:  10243772348.6 gradient_sum_squares:  10243772348.6\n",
      "gradient_magnitude:  10000725572.3 gradient_sum_squares:  10000725572.3\n",
      "gradient_magnitude:  9763445395.81 gradient_sum_squares:  9763445395.81\n",
      "gradient_magnitude:  9531794999.22 gradient_sum_squares:  9531794999.22\n",
      "gradient_magnitude:  9305640808.63 gradient_sum_squares:  9305640808.63\n",
      "gradient_magnitude:  9084852419.46 gradient_sum_squares:  9084852419.46\n",
      "gradient_magnitude:  8869302521.1 gradient_sum_squares:  8869302521.1\n",
      "gradient_magnitude:  8658866823.56 gradient_sum_squares:  8658866823.56\n",
      "gradient_magnitude:  8453423985.82 gradient_sum_squares:  8453423985.82\n",
      "gradient_magnitude:  8252855545.78 gradient_sum_squares:  8252855545.78\n",
      "gradient_magnitude:  8057045852.07 gradient_sum_squares:  8057045852.07\n",
      "gradient_magnitude:  7865881997.24 gradient_sum_squares:  7865881997.24\n",
      "gradient_magnitude:  7679253752.75 gradient_sum_squares:  7679253752.75\n",
      "gradient_magnitude:  7497053505.37 gradient_sum_squares:  7497053505.37\n",
      "gradient_magnitude:  7319176195.12 gradient_sum_squares:  7319176195.12\n",
      "gradient_magnitude:  7145519254.73 gradient_sum_squares:  7145519254.73\n",
      "gradient_magnitude:  6975982550.45 gradient_sum_squares:  6975982550.45\n",
      "gradient_magnitude:  6810468324.33 gradient_sum_squares:  6810468324.33\n",
      "gradient_magnitude:  6648881137.87 gradient_sum_squares:  6648881137.87\n",
      "gradient_magnitude:  6491127816.97 gradient_sum_squares:  6491127816.97\n",
      "gradient_magnitude:  6337117398.19 gradient_sum_squares:  6337117398.19\n",
      "gradient_magnitude:  6186761076.33 gradient_sum_squares:  6186761076.33\n",
      "gradient_magnitude:  6039972153.21 gradient_sum_squares:  6039972153.21\n",
      "gradient_magnitude:  5896665987.68 gradient_sum_squares:  5896665987.68\n",
      "gradient_magnitude:  5756759946.78 gradient_sum_squares:  5756759946.78\n",
      "gradient_magnitude:  5620173358.17 gradient_sum_squares:  5620173358.17\n",
      "gradient_magnitude:  5486827463.54 gradient_sum_squares:  5486827463.54\n",
      "gradient_magnitude:  5356645373.21 gradient_sum_squares:  5356645373.21\n",
      "gradient_magnitude:  5229552021.85 gradient_sum_squares:  5229552021.85\n",
      "gradient_magnitude:  5105474125.1 gradient_sum_squares:  5105474125.1\n",
      "gradient_magnitude:  4984340137.41 gradient_sum_squares:  4984340137.41\n",
      "gradient_magnitude:  4866080210.72 gradient_sum_squares:  4866080210.72\n",
      "gradient_magnitude:  4750626154.21 gradient_sum_squares:  4750626154.21\n",
      "gradient_magnitude:  4637911394.97 gradient_sum_squares:  4637911394.97\n",
      "gradient_magnitude:  4527870939.63 gradient_sum_squares:  4527870939.63\n",
      "gradient_magnitude:  4420441336.86 gradient_sum_squares:  4420441336.86\n",
      "gradient_magnitude:  4315560640.81 gradient_sum_squares:  4315560640.81\n",
      "gradient_magnitude:  4213168375.35 gradient_sum_squares:  4213168375.35\n",
      "gradient_magnitude:  4113205499.26 gradient_sum_squares:  4113205499.26\n",
      "gradient_magnitude:  4015614372.13 gradient_sum_squares:  4015614372.13\n",
      "gradient_magnitude:  3920338721.13 gradient_sum_squares:  3920338721.13\n",
      "gradient_magnitude:  3827323608.6 gradient_sum_squares:  3827323608.6\n",
      "gradient_magnitude:  3736515400.34 gradient_sum_squares:  3736515400.34\n",
      "gradient_magnitude:  3647861734.68 gradient_sum_squares:  3647861734.68\n",
      "gradient_magnitude:  3561311492.31 gradient_sum_squares:  3561311492.31\n",
      "gradient_magnitude:  3476814766.79 gradient_sum_squares:  3476814766.79\n",
      "gradient_magnitude:  3394322835.78 gradient_sum_squares:  3394322835.78\n",
      "gradient_magnitude:  3313788132.94 gradient_sum_squares:  3313788132.94\n",
      "gradient_magnitude:  3235164220.48 gradient_sum_squares:  3235164220.48\n",
      "gradient_magnitude:  3158405762.43 gradient_sum_squares:  3158405762.43\n",
      "gradient_magnitude:  3083468498.48 gradient_sum_squares:  3083468498.48\n",
      "gradient_magnitude:  3010309218.43 gradient_sum_squares:  3010309218.43\n",
      "gradient_magnitude:  2938885737.33 gradient_sum_squares:  2938885737.33\n",
      "gradient_magnitude:  2869156871.08 gradient_sum_squares:  2869156871.08\n",
      "gradient_magnitude:  2801082412.77 gradient_sum_squares:  2801082412.77\n",
      "gradient_magnitude:  2734623109.42 gradient_sum_squares:  2734623109.42\n",
      "gradient_magnitude:  2669740639.4 gradient_sum_squares:  2669740639.4\n",
      "gradient_magnitude:  2606397590.29 gradient_sum_squares:  2606397590.29\n",
      "gradient_magnitude:  2544557437.34 gradient_sum_squares:  2544557437.34\n",
      "gradient_magnitude:  2484184522.4 gradient_sum_squares:  2484184522.4\n",
      "gradient_magnitude:  2425244033.35 gradient_sum_squares:  2425244033.35\n",
      "gradient_magnitude:  2367701984.03 gradient_sum_squares:  2367701984.03\n",
      "gradient_magnitude:  2311525194.65 gradient_sum_squares:  2311525194.65\n",
      "gradient_magnitude:  2256681272.66 gradient_sum_squares:  2256681272.66\n",
      "gradient_magnitude:  2203138594.06 gradient_sum_squares:  2203138594.06\n",
      "gradient_magnitude:  2150866285.15 gradient_sum_squares:  2150866285.15\n",
      "gradient_magnitude:  2099834204.79 gradient_sum_squares:  2099834204.79\n",
      "gradient_magnitude:  2050012926.95 gradient_sum_squares:  2050012926.95\n",
      "gradient_magnitude:  2001373723.78 gradient_sum_squares:  2001373723.78\n",
      "gradient_magnitude:  1953888549.02 gradient_sum_squares:  1953888549.02\n",
      "gradient_magnitude:  1907530021.87 gradient_sum_squares:  1907530021.87\n",
      "gradient_magnitude:  1862271411.15 gradient_sum_squares:  1862271411.15\n",
      "gradient_magnitude:  1818086619.93 gradient_sum_squares:  1818086619.93\n",
      "gradient_magnitude:  1774950170.46 gradient_sum_squares:  1774950170.46\n",
      "gradient_magnitude:  1732837189.48 gradient_sum_squares:  1732837189.48\n",
      "gradient_magnitude:  1691723393.87 gradient_sum_squares:  1691723393.87\n",
      "gradient_magnitude:  1651585076.68 gradient_sum_squares:  1651585076.68\n",
      "gradient_magnitude:  1612399093.43 gradient_sum_squares:  1612399093.43\n",
      "gradient_magnitude:  1574142848.76 gradient_sum_squares:  1574142848.76\n",
      "gradient_magnitude:  1536794283.43 gradient_sum_squares:  1536794283.43\n",
      "gradient_magnitude:  1500331861.58 gradient_sum_squares:  1500331861.58\n",
      "gradient_magnitude:  1464734558.32 gradient_sum_squares:  1464734558.32\n",
      "gradient_magnitude:  1429981847.59 gradient_sum_squares:  1429981847.59\n",
      "gradient_magnitude:  1396053690.35 gradient_sum_squares:  1396053690.35\n",
      "gradient_magnitude:  1362930523.01 gradient_sum_squares:  1362930523.01\n",
      "gradient_magnitude:  1330593246.15 gradient_sum_squares:  1330593246.15\n",
      "gradient_magnitude:  1299023213.51 gradient_sum_squares:  1299023213.51\n",
      "gradient_magnitude:  1268202221.23 gradient_sum_squares:  1268202221.23\n",
      "gradient_magnitude:  1238112497.38 gradient_sum_squares:  1238112497.38\n",
      "gradient_magnitude:  1208736691.66 gradient_sum_squares:  1208736691.66\n",
      "gradient_magnitude:  1180057865.46 gradient_sum_squares:  1180057865.46\n",
      "gradient_magnitude:  1152059482.05 gradient_sum_squares:  1152059482.05\n",
      "gradient_magnitude:  1124725397.05 gradient_sum_squares:  1124725397.05\n",
      "gradient_magnitude:  1098039849.12 gradient_sum_squares:  1098039849.12\n",
      "gradient_magnitude:  1071987450.91 gradient_sum_squares:  1071987450.91\n",
      "gradient_magnitude:  1046553180.11 gradient_sum_squares:  1046553180.11\n",
      "gradient_magnitude:  1021722370.88 gradient_sum_squares:  1021722370.88\n",
      "gradient_magnitude:  997480705.316 gradient_sum_squares:  997480705.316\n",
      "[ -9.99999688e+04   2.45072603e+02   6.52795277e+01]\n"
     ]
    }
   ],
   "source": [
    "multi_weights = regression_gradient_descent(feature_matrix, output, initial_weights, step_size, tolerance)\n",
    "\n",
    "print multi_weights"
   ]
  },
  {
   "cell_type": "markdown",
   "metadata": {},
   "source": [
    "Use your newly estimated weights and the predict_output function to compute the predictions on the TEST data. Don't forget to create a numpy array for these features from the test set first!"
   ]
  },
  {
   "cell_type": "code",
   "execution_count": 148,
   "metadata": {
    "collapsed": false
   },
   "outputs": [
    {
     "name": "stdout",
     "output_type": "stream",
     "text": [
      "+------------+---------------------------+----------+----------+-----------+\n",
      "|     id     |            date           |  price   | bedrooms | bathrooms |\n",
      "+------------+---------------------------+----------+----------+-----------+\n",
      "| 0114101516 | 2014-05-28 00:00:00+00:00 | 310000.0 |   3.0    |    1.0    |\n",
      "| 9297300055 | 2015-01-24 00:00:00+00:00 | 650000.0 |   4.0    |    3.0    |\n",
      "+------------+---------------------------+----------+----------+-----------+\n",
      "+-------------+----------+--------+------------+------+-----------+-------+------------+\n",
      "| sqft_living | sqft_lot | floors | waterfront | view | condition | grade | sqft_above |\n",
      "+-------------+----------+--------+------------+------+-----------+-------+------------+\n",
      "|    1430.0   |  19901   |  1.5   |     0      |  0   |     4     |   7   |    1430    |\n",
      "|    2950.0   |   5000   |   2    |     0      |  3   |     3     |   9   |    1980    |\n",
      "+-------------+----------+--------+------------+------+-----------+-------+------------+\n",
      "+---------------+----------+--------------+---------+-------------+\n",
      "| sqft_basement | yr_built | yr_renovated | zipcode |     lat     |\n",
      "+---------------+----------+--------------+---------+-------------+\n",
      "|       0       |   1927   |      0       |  98028  | 47.75584254 |\n",
      "|      970      |   1979   |      0       |  98126  | 47.57136955 |\n",
      "+---------------+----------+--------------+---------+-------------+\n",
      "+---------------+---------------+------------+----------+\n",
      "|      long     | sqft_living15 | sqft_lot15 | constant |\n",
      "+---------------+---------------+------------+----------+\n",
      "| -122.22874498 |     1780.0    |  12697.0   |    1     |\n",
      "| -122.37541218 |     2140.0    |   4000.0   |    1     |\n",
      "+---------------+---------------+------------+----------+\n",
      "[4229 rows x 22 columns]\n",
      "\n",
      "['constant', 'sqft_living', 'sqft_living15']\n",
      "[ 366651.41203656  762662.39786164  386312.09499712 ...,  682087.39928241\n",
      "  585579.27865729  216559.20396617]\n"
     ]
    }
   ],
   "source": [
    "(feature_matrix, output) = get_numpy_data(test_data, model_features, my_output)\n",
    "multi_test_predictions = predict_output (feature_matrix, multi_weights)\n",
    "\n",
    "print multi_test_predictions"
   ]
  },
  {
   "cell_type": "markdown",
   "metadata": {},
   "source": [
    "**Quiz Question: What is the predicted price for the 1st house in the TEST data set for model 2 (round to nearest dollar)?**"
   ]
  },
  {
   "cell_type": "code",
   "execution_count": 149,
   "metadata": {
    "collapsed": false
   },
   "outputs": [
    {
     "name": "stdout",
     "output_type": "stream",
     "text": [
      "predicted house price multi:  366651.412037\n"
     ]
    }
   ],
   "source": [
    "print \"predicted house price multi: \", multi_test_predictions[0]"
   ]
  },
  {
   "cell_type": "markdown",
   "metadata": {},
   "source": [
    "What is the actual price for the 1st house in the test data set?"
   ]
  },
  {
   "cell_type": "code",
   "execution_count": 153,
   "metadata": {
    "collapsed": false
   },
   "outputs": [
    {
     "name": "stdout",
     "output_type": "stream",
     "text": [
      "actual house price:  310000.0\n",
      "model 1 prediction:  356134.443171\n",
      "error 1:  46134.4431709\n",
      "model 2 prediction:  366651.412037\n",
      "error 2:  56651.4120366\n"
     ]
    }
   ],
   "source": [
    "print \"actual house price: \", test_data['price'][0]\n",
    "\n",
    "actual = test_data['price'][0]\n",
    "print \"model 1 prediction: \",test_predictions[0]\n",
    "error_1 = test_predictions[0] - actual\n",
    "print \"error 1: \", error_1\n",
    "\n",
    "print \"model 2 prediction: \",multi_test_predictions[0]\n",
    "error_2 = multi_test_predictions[0] - actual\n",
    "print \"error 2: \", error_2 "
   ]
  },
  {
   "cell_type": "markdown",
   "metadata": {},
   "source": [
    "**Quiz Question: Which estimate was closer to the true price for the 1st house on the TEST data set, model 1 or model 2?**"
   ]
  },
  {
   "cell_type": "markdown",
   "metadata": {},
   "source": [
    "Now use your predictions and the output to compute the RSS for model 2 on TEST data."
   ]
  },
  {
   "cell_type": "code",
   "execution_count": 151,
   "metadata": {
    "collapsed": false
   },
   "outputs": [
    {
     "name": "stdout",
     "output_type": "stream",
     "text": [
      "rss_test:  2.70263446465e+14\n"
     ]
    }
   ],
   "source": [
    "rss_multi_test = np.square(multi_test_predictions - output).sum()\n",
    "print \"rss_test: \", rss_multi_test"
   ]
  },
  {
   "cell_type": "markdown",
   "metadata": {},
   "source": [
    "**Quiz Question: Which model (1 or 2) has lowest RSS on all of the TEST data? **"
   ]
  },
  {
   "cell_type": "code",
   "execution_count": 152,
   "metadata": {
    "collapsed": false
   },
   "outputs": [
    {
     "name": "stdout",
     "output_type": "stream",
     "text": [
      "rss_simple (1):  2.75400047593e+14\n",
      "rss_multi (2):  2.70263446465e+14\n"
     ]
    }
   ],
   "source": [
    "print \"rss_simple (1): \", rss_test\n",
    "print \"rss_multi (2): \", rss_multi_test"
   ]
  },
  {
   "cell_type": "code",
   "execution_count": null,
   "metadata": {
    "collapsed": true
   },
   "outputs": [],
   "source": [
    "actual"
   ]
  }
 ],
 "metadata": {
  "kernelspec": {
   "display_name": "Python 2",
   "language": "python",
   "name": "python2"
  },
  "language_info": {
   "codemirror_mode": {
    "name": "ipython",
    "version": 2
   },
   "file_extension": ".py",
   "mimetype": "text/x-python",
   "name": "python",
   "nbconvert_exporter": "python",
   "pygments_lexer": "ipython2",
   "version": "2.7.11"
  }
 },
 "nbformat": 4,
 "nbformat_minor": 0
}
